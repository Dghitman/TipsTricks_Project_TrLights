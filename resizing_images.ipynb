{
  "nbformat": 4,
  "nbformat_minor": 0,
  "metadata": {
    "kernelspec": {
      "display_name": "Python 3",
      "language": "python",
      "name": "python3"
    },
    "language_info": {
      "codemirror_mode": {
        "name": "ipython",
        "version": 3
      },
      "file_extension": ".py",
      "mimetype": "text/x-python",
      "name": "python",
      "nbconvert_exporter": "python",
      "pygments_lexer": "ipython3",
      "version": "3.6.12"
    },
    "colab": {
      "name": "resizing images.ipynb",
      "provenance": [],
      "collapsed_sections": []
    }
  },
  "cells": [
    {
      "cell_type": "code",
      "metadata": {
        "colab": {
          "base_uri": "https://localhost:8080/"
        },
        "id": "2U7DEb0RzSIp",
        "outputId": "49dd06bc-d436-4878-9e31-6a5c826a2b42"
      },
      "source": [
        "!pip install py7zr\r\n",
        "!pip uninstall albumentations --yes\r\n",
        "!pip install albumentations\r\n",
        "!pip install -U git+https://github.com/albu/albumentations --no-cache-dir"
      ],
      "execution_count": 1,
      "outputs": [
        {
          "output_type": "stream",
          "text": [
            "Collecting py7zr\n",
            "\u001b[?25l  Downloading https://files.pythonhosted.org/packages/45/8b/79453b7fb9d03f615d41c24b29f0c687cc32b114f2205d90bb5fb5fa4362/py7zr-0.14.1-py3-none-any.whl (68kB)\n",
            "\u001b[K     |████████████████████████████████| 71kB 3.4MB/s \n",
            "\u001b[?25hCollecting pycryptodome\n",
            "\u001b[?25l  Downloading https://files.pythonhosted.org/packages/ad/16/9627ab0493894a11c68e46000dbcc82f578c8ff06bc2980dcd016aea9bd3/pycryptodome-3.10.1-cp35-abi3-manylinux2010_x86_64.whl (1.9MB)\n",
            "\u001b[K     |████████████████████████████████| 1.9MB 6.7MB/s \n",
            "\u001b[?25hCollecting multivolumefile<0.3.0,>=0.2.0\n",
            "  Downloading https://files.pythonhosted.org/packages/02/2d/c7b951e8624edc8f44e544203cb45e5bad4b493665ecc7e442a6ff6cd943/multivolumefile-0.2.2-py3-none-any.whl\n",
            "Collecting texttable\n",
            "  Downloading https://files.pythonhosted.org/packages/06/f5/46201c428aebe0eecfa83df66bf3e6caa29659dbac5a56ddfd83cae0d4a4/texttable-1.6.3-py2.py3-none-any.whl\n",
            "Requirement already satisfied: importlib-metadata; python_version < \"3.8\" in /usr/local/lib/python3.7/dist-packages (from py7zr) (3.7.2)\n",
            "Collecting pyzstd<0.15.0,>=0.14.1; platform_python_implementation == \"CPython\"\n",
            "\u001b[?25l  Downloading https://files.pythonhosted.org/packages/e9/50/766ed314ff309b0fde72aac1560e8902ba5210bb626cb57d44ada53ea42d/pyzstd-0.14.3-cp37-cp37m-manylinux2014_x86_64.whl (2.2MB)\n",
            "\u001b[K     |████████████████████████████████| 2.2MB 16.3MB/s \n",
            "\u001b[?25hCollecting bcj-cffi<0.6.0,>=0.5.0\n",
            "  Downloading https://files.pythonhosted.org/packages/f4/a7/1610527d72957416fa25606062cb4151e7f7e697b8224aa47079d3d14d56/bcj_cffi-0.5.0-cp37-cp37m-manylinux2014_x86_64.whl\n",
            "Collecting ppmd-cffi<0.4.0,>=0.3.1\n",
            "\u001b[?25l  Downloading https://files.pythonhosted.org/packages/20/54/780ac526a6c81783c48e5341418f7295dcabfcb28b236eb412e806053e4c/ppmd_cffi-0.3.3-cp37-cp37m-manylinux2014_x86_64.whl (122kB)\n",
            "\u001b[K     |████████████████████████████████| 122kB 43.0MB/s \n",
            "\u001b[?25hRequirement already satisfied: typing-extensions>=3.6.4; python_version < \"3.8\" in /usr/local/lib/python3.7/dist-packages (from importlib-metadata; python_version < \"3.8\"->py7zr) (3.7.4.3)\n",
            "Requirement already satisfied: zipp>=0.5 in /usr/local/lib/python3.7/dist-packages (from importlib-metadata; python_version < \"3.8\"->py7zr) (3.4.1)\n",
            "Requirement already satisfied: cffi>=1.14.0 in /usr/local/lib/python3.7/dist-packages (from bcj-cffi<0.6.0,>=0.5.0->py7zr) (1.14.5)\n",
            "Requirement already satisfied: pycparser in /usr/local/lib/python3.7/dist-packages (from cffi>=1.14.0->bcj-cffi<0.6.0,>=0.5.0->py7zr) (2.20)\n",
            "Installing collected packages: pycryptodome, multivolumefile, texttable, pyzstd, bcj-cffi, ppmd-cffi, py7zr\n",
            "Successfully installed bcj-cffi-0.5.0 multivolumefile-0.2.2 ppmd-cffi-0.3.3 py7zr-0.14.1 pycryptodome-3.10.1 pyzstd-0.14.3 texttable-1.6.3\n",
            "Uninstalling albumentations-0.1.12:\n",
            "  Successfully uninstalled albumentations-0.1.12\n",
            "Collecting albumentations\n",
            "\u001b[?25l  Downloading https://files.pythonhosted.org/packages/03/58/63fb1d742dc42d9ba2800ea741de1f2bc6bb05548d8724aa84794042eaf2/albumentations-0.5.2-py3-none-any.whl (72kB)\n",
            "\u001b[K     |████████████████████████████████| 81kB 3.9MB/s \n",
            "\u001b[?25hCollecting opencv-python-headless>=4.1.1\n",
            "\u001b[?25l  Downloading https://files.pythonhosted.org/packages/6d/6d/92f377bece9b0ec9c893081dbe073a65b38d7ac12ef572b8f70554d08760/opencv_python_headless-4.5.1.48-cp37-cp37m-manylinux2014_x86_64.whl (37.6MB)\n",
            "\u001b[K     |████████████████████████████████| 37.6MB 1.4MB/s \n",
            "\u001b[?25hCollecting imgaug>=0.4.0\n",
            "\u001b[?25l  Downloading https://files.pythonhosted.org/packages/66/b1/af3142c4a85cba6da9f4ebb5ff4e21e2616309552caca5e8acefe9840622/imgaug-0.4.0-py2.py3-none-any.whl (948kB)\n",
            "\u001b[K     |████████████████████████████████| 952kB 42.6MB/s \n",
            "\u001b[?25hRequirement already satisfied: scikit-image>=0.16.1 in /usr/local/lib/python3.7/dist-packages (from albumentations) (0.16.2)\n",
            "Requirement already satisfied: PyYAML in /usr/local/lib/python3.7/dist-packages (from albumentations) (3.13)\n",
            "Requirement already satisfied: numpy>=1.11.1 in /usr/local/lib/python3.7/dist-packages (from albumentations) (1.19.5)\n",
            "Requirement already satisfied: scipy in /usr/local/lib/python3.7/dist-packages (from albumentations) (1.4.1)\n",
            "Requirement already satisfied: Pillow in /usr/local/lib/python3.7/dist-packages (from imgaug>=0.4.0->albumentations) (7.0.0)\n",
            "Requirement already satisfied: matplotlib in /usr/local/lib/python3.7/dist-packages (from imgaug>=0.4.0->albumentations) (3.2.2)\n",
            "Requirement already satisfied: opencv-python in /usr/local/lib/python3.7/dist-packages (from imgaug>=0.4.0->albumentations) (4.1.2.30)\n",
            "Requirement already satisfied: six in /usr/local/lib/python3.7/dist-packages (from imgaug>=0.4.0->albumentations) (1.15.0)\n",
            "Requirement already satisfied: imageio in /usr/local/lib/python3.7/dist-packages (from imgaug>=0.4.0->albumentations) (2.4.1)\n",
            "Requirement already satisfied: Shapely in /usr/local/lib/python3.7/dist-packages (from imgaug>=0.4.0->albumentations) (1.7.1)\n",
            "Requirement already satisfied: PyWavelets>=0.4.0 in /usr/local/lib/python3.7/dist-packages (from scikit-image>=0.16.1->albumentations) (1.1.1)\n",
            "Requirement already satisfied: networkx>=2.0 in /usr/local/lib/python3.7/dist-packages (from scikit-image>=0.16.1->albumentations) (2.5)\n",
            "Requirement already satisfied: kiwisolver>=1.0.1 in /usr/local/lib/python3.7/dist-packages (from matplotlib->imgaug>=0.4.0->albumentations) (1.3.1)\n",
            "Requirement already satisfied: python-dateutil>=2.1 in /usr/local/lib/python3.7/dist-packages (from matplotlib->imgaug>=0.4.0->albumentations) (2.8.1)\n",
            "Requirement already satisfied: pyparsing!=2.0.4,!=2.1.2,!=2.1.6,>=2.0.1 in /usr/local/lib/python3.7/dist-packages (from matplotlib->imgaug>=0.4.0->albumentations) (2.4.7)\n",
            "Requirement already satisfied: cycler>=0.10 in /usr/local/lib/python3.7/dist-packages (from matplotlib->imgaug>=0.4.0->albumentations) (0.10.0)\n",
            "Requirement already satisfied: decorator>=4.3.0 in /usr/local/lib/python3.7/dist-packages (from networkx>=2.0->scikit-image>=0.16.1->albumentations) (4.4.2)\n",
            "Installing collected packages: opencv-python-headless, imgaug, albumentations\n",
            "  Found existing installation: imgaug 0.2.9\n",
            "    Uninstalling imgaug-0.2.9:\n",
            "      Successfully uninstalled imgaug-0.2.9\n",
            "Successfully installed albumentations-0.5.2 imgaug-0.4.0 opencv-python-headless-4.5.1.48\n",
            "Collecting git+https://github.com/albu/albumentations\n",
            "  Cloning https://github.com/albu/albumentations to /tmp/pip-req-build-vn68ny_v\n",
            "  Running command git clone -q https://github.com/albu/albumentations /tmp/pip-req-build-vn68ny_v\n",
            "Requirement already satisfied, skipping upgrade: numpy>=1.11.1 in /usr/local/lib/python3.7/dist-packages (from albumentations==0.5.2) (1.19.5)\n",
            "Requirement already satisfied, skipping upgrade: scipy in /usr/local/lib/python3.7/dist-packages (from albumentations==0.5.2) (1.4.1)\n",
            "Requirement already satisfied, skipping upgrade: scikit-image>=0.16.1 in /usr/local/lib/python3.7/dist-packages (from albumentations==0.5.2) (0.16.2)\n",
            "Requirement already satisfied, skipping upgrade: imgaug>=0.4.0 in /usr/local/lib/python3.7/dist-packages (from albumentations==0.5.2) (0.4.0)\n",
            "Requirement already satisfied, skipping upgrade: PyYAML in /usr/local/lib/python3.7/dist-packages (from albumentations==0.5.2) (3.13)\n",
            "Requirement already satisfied, skipping upgrade: opencv-python>=4.1.1 in /usr/local/lib/python3.7/dist-packages (from albumentations==0.5.2) (4.1.2.30)\n",
            "Requirement already satisfied, skipping upgrade: matplotlib!=3.0.0,>=2.0.0 in /usr/local/lib/python3.7/dist-packages (from scikit-image>=0.16.1->albumentations==0.5.2) (3.2.2)\n",
            "Requirement already satisfied, skipping upgrade: imageio>=2.3.0 in /usr/local/lib/python3.7/dist-packages (from scikit-image>=0.16.1->albumentations==0.5.2) (2.4.1)\n",
            "Requirement already satisfied, skipping upgrade: networkx>=2.0 in /usr/local/lib/python3.7/dist-packages (from scikit-image>=0.16.1->albumentations==0.5.2) (2.5)\n",
            "Requirement already satisfied, skipping upgrade: pillow>=4.3.0 in /usr/local/lib/python3.7/dist-packages (from scikit-image>=0.16.1->albumentations==0.5.2) (7.0.0)\n",
            "Requirement already satisfied, skipping upgrade: PyWavelets>=0.4.0 in /usr/local/lib/python3.7/dist-packages (from scikit-image>=0.16.1->albumentations==0.5.2) (1.1.1)\n",
            "Requirement already satisfied, skipping upgrade: six in /usr/local/lib/python3.7/dist-packages (from imgaug>=0.4.0->albumentations==0.5.2) (1.15.0)\n",
            "Requirement already satisfied, skipping upgrade: Shapely in /usr/local/lib/python3.7/dist-packages (from imgaug>=0.4.0->albumentations==0.5.2) (1.7.1)\n",
            "Requirement already satisfied, skipping upgrade: python-dateutil>=2.1 in /usr/local/lib/python3.7/dist-packages (from matplotlib!=3.0.0,>=2.0.0->scikit-image>=0.16.1->albumentations==0.5.2) (2.8.1)\n",
            "Requirement already satisfied, skipping upgrade: pyparsing!=2.0.4,!=2.1.2,!=2.1.6,>=2.0.1 in /usr/local/lib/python3.7/dist-packages (from matplotlib!=3.0.0,>=2.0.0->scikit-image>=0.16.1->albumentations==0.5.2) (2.4.7)\n",
            "Requirement already satisfied, skipping upgrade: cycler>=0.10 in /usr/local/lib/python3.7/dist-packages (from matplotlib!=3.0.0,>=2.0.0->scikit-image>=0.16.1->albumentations==0.5.2) (0.10.0)\n",
            "Requirement already satisfied, skipping upgrade: kiwisolver>=1.0.1 in /usr/local/lib/python3.7/dist-packages (from matplotlib!=3.0.0,>=2.0.0->scikit-image>=0.16.1->albumentations==0.5.2) (1.3.1)\n",
            "Requirement already satisfied, skipping upgrade: decorator>=4.3.0 in /usr/local/lib/python3.7/dist-packages (from networkx>=2.0->scikit-image>=0.16.1->albumentations==0.5.2) (4.4.2)\n",
            "Building wheels for collected packages: albumentations\n",
            "  Building wheel for albumentations (setup.py) ... \u001b[?25l\u001b[?25hdone\n",
            "  Created wheel for albumentations: filename=albumentations-0.5.2-cp37-none-any.whl size=88144 sha256=21e10ee5bb4e17b973b52eccad4739679547cc9e74c3719c9316ec3d6607d345\n",
            "  Stored in directory: /tmp/pip-ephem-wheel-cache-1ho9gbyn/wheels/45/8b/e4/2837bbcf517d00732b8e394f8646f22b8723ac00993230188b\n",
            "Successfully built albumentations\n",
            "Installing collected packages: albumentations\n",
            "  Found existing installation: albumentations 0.5.2\n",
            "    Uninstalling albumentations-0.5.2:\n",
            "      Successfully uninstalled albumentations-0.5.2\n",
            "Successfully installed albumentations-0.5.2\n"
          ],
          "name": "stdout"
        }
      ]
    },
    {
      "cell_type": "code",
      "metadata": {
        "id": "Ww0nM7GkzSIy"
      },
      "source": [
        "import requests\r\n",
        "import py7zr\r\n",
        "import sys\r\n",
        "import os\r\n",
        "from tqdm.notebook import tqdm\r\n",
        "import zipfile\r\n",
        "import yaml\r\n",
        "from lxml import objectify\r\n",
        "import pandas as pd\r\n",
        "import cv2\r\n",
        "from time import time\r\n",
        "import numpy as np\r\n",
        "from tqdm.notebook import tqdm\r\n",
        "import matplotlib.pyplot as plt\r\n",
        "import seaborn as sns\r\n",
        "from sklearn.model_selection import train_test_split, GroupKFold, StratifiedKFold\r\n",
        "import albumentations as A\r\n",
        "import albumentations.pytorch.transforms\r\n",
        "from albumentations.pytorch import ToTensor\r\n",
        "#from albumentations.pytorch.transforms import ToTensorV2\r\n",
        "import torch\r\n",
        "import torchvision\r\n",
        "from torchvision.models.detection.faster_rcnn import FastRCNNPredictor\r\n",
        "from torchvision.models.detection import FasterRCNN\r\n",
        "from torchvision.models.detection.rpn import AnchorGenerator\r\n",
        "from torchvision.ops import nms\r\n",
        "from torch.utils.data import DataLoader, Dataset\r\n",
        "from torch.utils.data.sampler import SequentialSampler\r\n",
        "import datetime\r\n",
        "# General\r\n",
        "import warnings\r\n",
        "warnings.filterwarnings(\"ignore\")\r\n",
        "import datetime\r\n",
        "from time import time\r\n",
        "import pandas as pd\r\n",
        "import os\r\n",
        "import numpy as np\r\n",
        "from tqdm import tqdm\r\n",
        "\r\n",
        "# Visualization\r\n",
        "import matplotlib.pyplot as plt\r\n",
        "import seaborn as sns\r\n",
        "plt.style.use('fivethirtyeight')\r\n",
        "%matplotlib inline\r\n",
        "\r\n",
        "# OpenCV\r\n",
        "import cv2\r\n",
        "\r\n",
        "# ScikitLearn for Data Splitting\r\n",
        "from sklearn.model_selection import train_test_split, GroupKFold, StratifiedKFold\r\n",
        "\r\n",
        "# Albumentations\r\n",
        "import albumentations as A\r\n",
        "#from albumentations.pytorch.transforms import ToTensorV2\r\n",
        "\r\n",
        "# Pytorch\r\n",
        "import torch\r\n",
        "import torchvision\r\n",
        "\r\n",
        "from torchvision.models.detection.faster_rcnn import FastRCNNPredictor\r\n",
        "from torchvision.models.detection import FasterRCNN\r\n",
        "from torchvision.models.detection.rpn import AnchorGenerator\r\n",
        "from torchvision.ops import nms\r\n",
        "\r\n",
        "from torch.utils.data import DataLoader, Dataset\r\n",
        "from torch.utils.data.sampler import SequentialSampler\r\n",
        "\r\n",
        "\r\n",
        "# Seed Everything for Reproducibility\r\n",
        "SEED = 42\r\n",
        "\r\n",
        "def seed_everything(seed):\r\n",
        "    os.environ['PYTHONHASHSEED'] = str(seed)\r\n",
        "    np.random.seed(seed)\r\n",
        "    torch.manual_seed(seed)\r\n",
        "    torch.cuda.manual_seed(seed)\r\n",
        "    torch.backends.cudnn.deterministic = True\r\n",
        "\r\n",
        "seed_everything(SEED)"
      ],
      "execution_count": 2,
      "outputs": []
    },
    {
      "cell_type": "code",
      "metadata": {
        "id": "9hCWtMBqzWkG"
      },
      "source": [
        "def Download(name, url): #found this somewhere on stackoverflow\r\n",
        "  \"\"\"\r\n",
        "  Function for downloading datasets (except downloading from Google Drive)\r\n",
        "  \"\"\"\r\n",
        "  response = requests.get(url, stream=True)\r\n",
        "  total_size_in_bytes= int(response.headers.get('content-length', 0))\r\n",
        "  block_size = 1024 #1 Kibibyte\r\n",
        "  progress_bar = tqdm(total=total_size_in_bytes, unit='iB', unit_scale=True)\r\n",
        "  with open('/content/zipdata/'+name, 'wb') as file:\r\n",
        "      for data in response.iter_content(block_size):\r\n",
        "          progress_bar.update(len(data))\r\n",
        "          file.write(data)\r\n",
        "  progress_bar.close()\r\n",
        "  if total_size_in_bytes != 0 and progress_bar.n != total_size_in_bytes:\r\n",
        "      print(\"ERROR, something went wrong\")"
      ],
      "execution_count": 3,
      "outputs": []
    },
    {
      "cell_type": "code",
      "metadata": {
        "colab": {
          "base_uri": "https://localhost:8080/"
        },
        "id": "OPqTPaGGzY3m",
        "outputId": "8a6670c8-03b3-45ce-dc36-c9c080e19fcf"
      },
      "source": [
        "#Creating dirs to store datasets\r\n",
        "try:\r\n",
        "  os.makedirs('/content/zipdata')\r\n",
        "  print('Directory \"/content/zipdata\" is created')\r\n",
        "except:\r\n",
        "  print('Directory \"/content/zipdata\" already exists')\r\n",
        "try:\r\n",
        "  os.makedirs('/content/unzipped')\r\n",
        "  print('Directory \"/content/unzipped\" is created')\r\n",
        "except:\r\n",
        "  print('Directory \"/content/unzipped\" already exists')"
      ],
      "execution_count": 4,
      "outputs": [
        {
          "output_type": "stream",
          "text": [
            "Directory \"/content/zipdata\" is created\n",
            "Directory \"/content/unzipped\" is created\n"
          ],
          "name": "stdout"
        }
      ]
    },
    {
      "cell_type": "code",
      "metadata": {
        "colab": {
          "base_uri": "https://localhost:8080/"
        },
        "id": "PdgNFuSpzaKs",
        "outputId": "9c3c4914-dc13-469e-bdb9-a86a8032bbe9"
      },
      "source": [
        "#https://stackoverflow.com/questions/25010369/wget-curl-large-file-from-google-drive/39225039#39225039\r\n",
        "\r\n",
        "def download_file_from_google_drive(id, destination):\r\n",
        "    URL = \"https://docs.google.com/uc?export=download\"\r\n",
        "\r\n",
        "    session = requests.Session()\r\n",
        "\r\n",
        "    response = session.get(URL, params = { 'id' : id }, stream = True)\r\n",
        "    token = get_confirm_token(response)\r\n",
        "\r\n",
        "    if token:\r\n",
        "        params = { 'id' : id, 'confirm' : token }\r\n",
        "        response = session.get(URL, params = params, stream = True)\r\n",
        "\r\n",
        "    total_size_in_bytes= int(response.headers.get('content-length', 0))\r\n",
        "    progress_bar = tqdm(total=total_size_in_bytes, unit='iB', unit_scale=True)\r\n",
        "\r\n",
        "    save_response_content(response, destination, progress_bar)    \r\n",
        "\r\n",
        "def get_confirm_token(response):\r\n",
        "    for key, value in response.cookies.items():\r\n",
        "        if key.startswith('download_warning'):\r\n",
        "            return value\r\n",
        "\r\n",
        "    return None\r\n",
        "\r\n",
        "def save_response_content(response, destination, progress_bar):\r\n",
        "    CHUNK_SIZE = 32768\r\n",
        "\r\n",
        "    with open(destination, \"wb\") as f:\r\n",
        "        for chunk in response.iter_content(CHUNK_SIZE):\r\n",
        "            if chunk: # filter out keep-alive new chunks\r\n",
        "                f.write(chunk)\r\n",
        "                progress_bar.update(len(chunk))\r\n",
        "\r\n",
        "\r\n",
        "if __name__ == \"__main__\":\r\n",
        "    file_id = '14aqK5W8mDkMY7OGD-iErzsKloRrTRw_x'\r\n",
        "    destination = '/content/zipdata/bosch.7z'\r\n",
        "    download_file_from_google_drive(file_id, destination)"
      ],
      "execution_count": 5,
      "outputs": [
        {
          "output_type": "stream",
          "text": [
            "6.04GiB [01:20, 94.5MiB/s]"
          ],
          "name": "stderr"
        }
      ]
    },
    {
      "cell_type": "code",
      "metadata": {
        "colab": {
          "base_uri": "https://localhost:8080/"
        },
        "id": "MR-LSqxcze7_",
        "outputId": "4db49d66-4155-4eaf-896d-81afb24d5d27"
      },
      "source": [
        "with py7zr.SevenZipFile('/content/zipdata/bosch.7z', 'r') as archive:\r\n",
        "    archive.extractall('/content/unzipped/BOSCH/')\r\n",
        "with open('/content/unzipped/BOSCH/bosch/train.yaml') as f:\r\n",
        "    templates = yaml.safe_load(f)\r\n",
        "df_bosch = pd.json_normalize(templates, 'boxes', 'path')\r\n",
        "try:\r\n",
        "  df_bosch = df_bosch[df_bosch['occluded'] == False].drop(labels=['occluded'], axis=1)\r\n",
        "except:\r\n",
        "  None\r\n",
        "df_bosch = df_bosch[df_bosch['label'].isin(['Yellow', 'Red', 'Green'])]\r\n",
        "df_bosch.reset_index(drop=True, inplace=True)\r\n",
        "df_bosch = df_bosch.rename(columns={'path':'Path', 'label':'Color', 'x_min':'x_min', \r\n",
        "                                  'y_min':'y_min', 'x_max':'x_max', 'y_max':'y_max'})\r\n",
        "df_bosch = df_bosch.iloc[:,[-1,0,2,4,1,3]]\r\n",
        "df_bosch = df_bosch.astype({'x_min':np.int64, 'y_min':np.int64, 'x_max':np.int64, 'y_max':np.int64})\r\n",
        "\r\n",
        "for i in tqdm(range(df_bosch.shape[0])):\r\n",
        "  df_bosch.loc[i,'Path'] = '/content/unzipped/BOSCH/bosch'+ df_bosch['Path'][i][1:]"
      ],
      "execution_count": 6,
      "outputs": [
        {
          "output_type": "stream",
          "text": [
            "6.05GiB [01:40, 94.5MiB/s]\n",
            "  0%|          | 0/8574 [00:00<?, ?it/s]\u001b[A\n",
            "  3%|▎         | 221/8574 [00:00<00:03, 2209.11it/s]\u001b[A\n",
            "  5%|▌         | 445/8574 [00:00<00:03, 2216.00it/s]\u001b[A\n",
            "  8%|▊         | 675/8574 [00:00<00:03, 2239.83it/s]\u001b[A\n",
            " 11%|█         | 902/8574 [00:00<00:03, 2248.24it/s]\u001b[A\n",
            " 13%|█▎        | 1128/8574 [00:00<00:03, 2251.31it/s]\u001b[A\n",
            " 16%|█▌        | 1355/8574 [00:00<00:03, 2256.33it/s]\u001b[A\n",
            " 18%|█▊        | 1561/8574 [00:00<00:03, 2193.48it/s]\u001b[A\n",
            " 21%|██        | 1778/8574 [00:00<00:03, 2186.19it/s]\u001b[A\n",
            " 23%|██▎       | 1998/8574 [00:00<00:03, 2189.44it/s]\u001b[A\n",
            " 26%|██▌       | 2213/8574 [00:01<00:02, 2176.59it/s]\u001b[A\n",
            " 28%|██▊       | 2425/8574 [00:01<00:02, 2110.34it/s]\u001b[A\n",
            " 31%|███       | 2634/8574 [00:01<00:02, 2102.14it/s]\u001b[A\n",
            " 33%|███▎      | 2842/8574 [00:01<00:02, 2094.67it/s]\u001b[A\n",
            " 36%|███▌      | 3050/8574 [00:01<00:02, 2072.72it/s]\u001b[A\n",
            " 38%|███▊      | 3266/8574 [00:01<00:02, 2097.20it/s]\u001b[A\n",
            " 41%|████      | 3475/8574 [00:01<00:02, 2040.60it/s]\u001b[A\n",
            " 43%|████▎     | 3679/8574 [00:01<00:02, 1959.51it/s]\u001b[A\n",
            " 45%|████▌     | 3888/8574 [00:01<00:02, 1996.60it/s]\u001b[A\n",
            " 48%|████▊     | 4094/8574 [00:01<00:02, 2014.00it/s]\u001b[A\n",
            " 50%|█████     | 4299/8574 [00:02<00:02, 2024.52it/s]\u001b[A\n",
            " 53%|█████▎    | 4502/8574 [00:02<00:02, 2008.96it/s]\u001b[A\n",
            " 55%|█████▍    | 4705/8574 [00:02<00:01, 2014.01it/s]\u001b[A\n",
            " 57%|█████▋    | 4908/8574 [00:02<00:01, 2016.47it/s]\u001b[A\n",
            " 60%|█████▉    | 5112/8574 [00:02<00:01, 2020.17it/s]\u001b[A\n",
            " 62%|██████▏   | 5315/8574 [00:02<00:01, 1997.93it/s]\u001b[A\n",
            " 64%|██████▍   | 5515/8574 [00:02<00:01, 1989.78it/s]\u001b[A\n",
            " 67%|██████▋   | 5715/8574 [00:02<00:01, 1913.07it/s]\u001b[A\n",
            " 69%|██████▉   | 5908/8574 [00:02<00:01, 1906.82it/s]\u001b[A\n",
            " 71%|███████   | 6104/8574 [00:02<00:01, 1921.29it/s]\u001b[A\n",
            " 74%|███████▎  | 6307/8574 [00:03<00:01, 1952.25it/s]\u001b[A\n",
            " 76%|███████▌  | 6503/8574 [00:03<00:01, 1893.36it/s]\u001b[A\n",
            " 78%|███████▊  | 6693/8574 [00:03<00:01, 1857.02it/s]\u001b[A\n",
            " 80%|████████  | 6880/8574 [00:03<00:00, 1853.30it/s]\u001b[A\n",
            " 82%|████████▏ | 7071/8574 [00:03<00:00, 1868.26it/s]\u001b[A\n",
            " 85%|████████▍ | 7259/8574 [00:03<00:00, 1862.72it/s]\u001b[A\n",
            " 87%|████████▋ | 7446/8574 [00:03<00:00, 1823.74it/s]\u001b[A\n",
            " 89%|████████▉ | 7629/8574 [00:03<00:00, 1722.18it/s]\u001b[A\n",
            " 91%|█████████ | 7803/8574 [00:03<00:00, 1642.19it/s]\u001b[A\n",
            " 93%|█████████▎| 7969/8574 [00:04<00:00, 1582.31it/s]\u001b[A\n",
            " 95%|█████████▍| 8129/8574 [00:04<00:00, 1531.20it/s]\u001b[A\n",
            " 97%|█████████▋| 8284/8574 [00:04<00:00, 1490.38it/s]\u001b[A\n",
            "100%|██████████| 8574/8574 [00:04<00:00, 1918.65it/s]\n"
          ],
          "name": "stderr"
        }
      ]
    },
    {
      "cell_type": "markdown",
      "metadata": {
        "id": "_fULY6HPzkJb"
      },
      "source": [
        "## Bosch is 1280*720\r\n",
        "## Lisa is 1280*960"
      ]
    },
    {
      "cell_type": "code",
      "metadata": {
        "id": "tLnPyEeNziUV"
      },
      "source": [
        "df_bosch = df_bosch.rename(columns={'Path':'image_id', 'Color':'label'})"
      ],
      "execution_count": 7,
      "outputs": []
    },
    {
      "cell_type": "code",
      "metadata": {
        "id": "mWUg-kp6zu7W"
      },
      "source": [
        "## Resizing options\r\n",
        "img = cv2.imread(df_bosch['image_id'].iloc[0])\r\n",
        "img_new = cv2.resize(img, (1280,960), interpolation=cv2.INTER_CUBIC)"
      ],
      "execution_count": 8,
      "outputs": []
    },
    {
      "cell_type": "code",
      "metadata": {
        "colab": {
          "base_uri": "https://localhost:8080/"
        },
        "id": "M5a04aWjzwuz",
        "outputId": "393d214f-ee33-47e7-cb74-aeb95f5de301"
      },
      "source": [
        "print(img.shape)\r\n",
        "print(img_new.shape)"
      ],
      "execution_count": 9,
      "outputs": [
        {
          "output_type": "stream",
          "text": [
            "(720, 1280, 3)\n",
            "(960, 1280, 3)\n"
          ],
          "name": "stdout"
        }
      ]
    },
    {
      "cell_type": "code",
      "metadata": {
        "id": "X0OtcjsnzxHG"
      },
      "source": [
        "## Resizing respective boxes\r\n",
        "# Get the scaling factor\r\n",
        "img_shape = (720, 1280)\r\n",
        "reshaped_img_shape = (960, 1280)\r\n",
        "\r\n",
        "#the scaling factor = (960/720, 1280/1280)\r\n",
        "scale = np.flipud(np.divide(reshaped_img_shape, img_shape))  # you have to flip because the image.shape is (y,x) but your corner points are (x,y)\r\n",
        "x_min = 633\r\n",
        "y_min = 342\r\n",
        "x_max = 638\r\n",
        "y_max = 351\r\n",
        "#use this on to get new top left corner and bottom right corner coordinates\r\n",
        "new_x_min = np.multiply(x_min, scale )\r\n",
        "new_x_max = np.multiply(x_max, scale )\r\n",
        "new_y_min = np.multiply(y_min, scale )\r\n",
        "new_y_max = np.multiply(y_max, scale )"
      ],
      "execution_count": 10,
      "outputs": []
    },
    {
      "cell_type": "code",
      "metadata": {
        "colab": {
          "base_uri": "https://localhost:8080/"
        },
        "id": "mcB5IvRvzzD-",
        "outputId": "80cc9e7d-608f-40a5-bffd-473e0f5f75e5"
      },
      "source": [
        "print(int(new_x_min[1]))\r\n",
        "print(int(new_x_max[1]))\r\n",
        "print(int(new_y_max[1]))\r\n",
        "print(int(new_y_min[1]))"
      ],
      "execution_count": 11,
      "outputs": [
        {
          "output_type": "stream",
          "text": [
            "844\n",
            "850\n",
            "468\n",
            "456\n"
          ],
          "name": "stdout"
        }
      ]
    }
  ]
}