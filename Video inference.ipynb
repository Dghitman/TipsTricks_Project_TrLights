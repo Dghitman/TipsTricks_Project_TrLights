{
  "nbformat": 4,
  "nbformat_minor": 0,
  "metadata": {
    "accelerator": "GPU",
    "colab": {
      "name": "Копия блокнота \"Only video.ipynb\"",
      "provenance": [],
      "collapsed_sections": []
    },
    "kernelspec": {
      "display_name": "Python 3",
      "language": "python",
      "name": "python3"
    },
    "language_info": {
      "codemirror_mode": {
        "name": "ipython",
        "version": 3
      },
      "file_extension": ".py",
      "mimetype": "text/x-python",
      "name": "python",
      "nbconvert_exporter": "python",
      "pygments_lexer": "ipython3",
      "version": "3.6.12-final"
    },
    "widgets": {
      "application/vnd.jupyter.widget-state+json": {
        "07c5106af44041939261e29ecfb37340": {
          "model_module": "@jupyter-widgets/controls",
          "model_name": "HBoxModel",
          "state": {
            "_view_name": "HBoxView",
            "_dom_classes": [],
            "_model_name": "HBoxModel",
            "_view_module": "@jupyter-widgets/controls",
            "_model_module_version": "1.5.0",
            "_view_count": null,
            "_view_module_version": "1.5.0",
            "box_style": "",
            "layout": "IPY_MODEL_9eb15fd27d9b472bb078f3e5214253ba",
            "_model_module": "@jupyter-widgets/controls",
            "children": [
              "IPY_MODEL_796beb41774843b0a7cb429da7ad942c",
              "IPY_MODEL_08995e7f0a5e4ceeb3b5bc52e2925c42"
            ]
          }
        },
        "9eb15fd27d9b472bb078f3e5214253ba": {
          "model_module": "@jupyter-widgets/base",
          "model_name": "LayoutModel",
          "state": {
            "_view_name": "LayoutView",
            "grid_template_rows": null,
            "right": null,
            "justify_content": null,
            "_view_module": "@jupyter-widgets/base",
            "overflow": null,
            "_model_module_version": "1.2.0",
            "_view_count": null,
            "flex_flow": null,
            "width": null,
            "min_width": null,
            "border": null,
            "align_items": null,
            "bottom": null,
            "_model_module": "@jupyter-widgets/base",
            "top": null,
            "grid_column": null,
            "overflow_y": null,
            "overflow_x": null,
            "grid_auto_flow": null,
            "grid_area": null,
            "grid_template_columns": null,
            "flex": null,
            "_model_name": "LayoutModel",
            "justify_items": null,
            "grid_row": null,
            "max_height": null,
            "align_content": null,
            "visibility": null,
            "align_self": null,
            "height": null,
            "min_height": null,
            "padding": null,
            "grid_auto_rows": null,
            "grid_gap": null,
            "max_width": null,
            "order": null,
            "_view_module_version": "1.2.0",
            "grid_template_areas": null,
            "object_position": null,
            "object_fit": null,
            "grid_auto_columns": null,
            "margin": null,
            "display": null,
            "left": null
          }
        },
        "796beb41774843b0a7cb429da7ad942c": {
          "model_module": "@jupyter-widgets/controls",
          "model_name": "FloatProgressModel",
          "state": {
            "_view_name": "ProgressView",
            "style": "IPY_MODEL_e4eb75966a2e470e83e6e530a9079de0",
            "_dom_classes": [],
            "description": "",
            "_model_name": "FloatProgressModel",
            "bar_style": "info",
            "max": 1,
            "_view_module": "@jupyter-widgets/controls",
            "_model_module_version": "1.5.0",
            "value": 1,
            "_view_count": null,
            "_view_module_version": "1.5.0",
            "orientation": "horizontal",
            "min": 0,
            "description_tooltip": null,
            "_model_module": "@jupyter-widgets/controls",
            "layout": "IPY_MODEL_761802ca7a514f3ca47523ccc8c7f001"
          }
        },
        "08995e7f0a5e4ceeb3b5bc52e2925c42": {
          "model_module": "@jupyter-widgets/controls",
          "model_name": "HTMLModel",
          "state": {
            "_view_name": "HTMLView",
            "style": "IPY_MODEL_7a46d47be50c4e50876fbfd51090cd8a",
            "_dom_classes": [],
            "description": "",
            "_model_name": "HTMLModel",
            "placeholder": "​",
            "_view_module": "@jupyter-widgets/controls",
            "_model_module_version": "1.5.0",
            "value": " 14.6M/0.00 [00:20&lt;00:00, 33.0MiB/s]",
            "_view_count": null,
            "_view_module_version": "1.5.0",
            "description_tooltip": null,
            "_model_module": "@jupyter-widgets/controls",
            "layout": "IPY_MODEL_221896b22e8c44e2a721d515bb147cb6"
          }
        },
        "e4eb75966a2e470e83e6e530a9079de0": {
          "model_module": "@jupyter-widgets/controls",
          "model_name": "ProgressStyleModel",
          "state": {
            "_view_name": "StyleView",
            "_model_name": "ProgressStyleModel",
            "description_width": "initial",
            "_view_module": "@jupyter-widgets/base",
            "_model_module_version": "1.5.0",
            "_view_count": null,
            "_view_module_version": "1.2.0",
            "bar_color": null,
            "_model_module": "@jupyter-widgets/controls"
          }
        },
        "761802ca7a514f3ca47523ccc8c7f001": {
          "model_module": "@jupyter-widgets/base",
          "model_name": "LayoutModel",
          "state": {
            "_view_name": "LayoutView",
            "grid_template_rows": null,
            "right": null,
            "justify_content": null,
            "_view_module": "@jupyter-widgets/base",
            "overflow": null,
            "_model_module_version": "1.2.0",
            "_view_count": null,
            "flex_flow": null,
            "width": null,
            "min_width": null,
            "border": null,
            "align_items": null,
            "bottom": null,
            "_model_module": "@jupyter-widgets/base",
            "top": null,
            "grid_column": null,
            "overflow_y": null,
            "overflow_x": null,
            "grid_auto_flow": null,
            "grid_area": null,
            "grid_template_columns": null,
            "flex": null,
            "_model_name": "LayoutModel",
            "justify_items": null,
            "grid_row": null,
            "max_height": null,
            "align_content": null,
            "visibility": null,
            "align_self": null,
            "height": null,
            "min_height": null,
            "padding": null,
            "grid_auto_rows": null,
            "grid_gap": null,
            "max_width": null,
            "order": null,
            "_view_module_version": "1.2.0",
            "grid_template_areas": null,
            "object_position": null,
            "object_fit": null,
            "grid_auto_columns": null,
            "margin": null,
            "display": null,
            "left": null
          }
        },
        "7a46d47be50c4e50876fbfd51090cd8a": {
          "model_module": "@jupyter-widgets/controls",
          "model_name": "DescriptionStyleModel",
          "state": {
            "_view_name": "StyleView",
            "_model_name": "DescriptionStyleModel",
            "description_width": "",
            "_view_module": "@jupyter-widgets/base",
            "_model_module_version": "1.5.0",
            "_view_count": null,
            "_view_module_version": "1.2.0",
            "_model_module": "@jupyter-widgets/controls"
          }
        },
        "221896b22e8c44e2a721d515bb147cb6": {
          "model_module": "@jupyter-widgets/base",
          "model_name": "LayoutModel",
          "state": {
            "_view_name": "LayoutView",
            "grid_template_rows": null,
            "right": null,
            "justify_content": null,
            "_view_module": "@jupyter-widgets/base",
            "overflow": null,
            "_model_module_version": "1.2.0",
            "_view_count": null,
            "flex_flow": null,
            "width": null,
            "min_width": null,
            "border": null,
            "align_items": null,
            "bottom": null,
            "_model_module": "@jupyter-widgets/base",
            "top": null,
            "grid_column": null,
            "overflow_y": null,
            "overflow_x": null,
            "grid_auto_flow": null,
            "grid_area": null,
            "grid_template_columns": null,
            "flex": null,
            "_model_name": "LayoutModel",
            "justify_items": null,
            "grid_row": null,
            "max_height": null,
            "align_content": null,
            "visibility": null,
            "align_self": null,
            "height": null,
            "min_height": null,
            "padding": null,
            "grid_auto_rows": null,
            "grid_gap": null,
            "max_width": null,
            "order": null,
            "_view_module_version": "1.2.0",
            "grid_template_areas": null,
            "object_position": null,
            "object_fit": null,
            "grid_auto_columns": null,
            "margin": null,
            "display": null,
            "left": null
          }
        },
        "f96c317d6b0c4d429b0831e264d479f7": {
          "model_module": "@jupyter-widgets/controls",
          "model_name": "HBoxModel",
          "state": {
            "_view_name": "HBoxView",
            "_dom_classes": [],
            "_model_name": "HBoxModel",
            "_view_module": "@jupyter-widgets/controls",
            "_model_module_version": "1.5.0",
            "_view_count": null,
            "_view_module_version": "1.5.0",
            "box_style": "",
            "layout": "IPY_MODEL_a20bdfc4ee104bb98ed5894c86043a7e",
            "_model_module": "@jupyter-widgets/controls",
            "children": [
              "IPY_MODEL_50874362718940c3b1cc554094f09ec6",
              "IPY_MODEL_9b91f62853d34a20b43d03170d655186"
            ]
          }
        },
        "a20bdfc4ee104bb98ed5894c86043a7e": {
          "model_module": "@jupyter-widgets/base",
          "model_name": "LayoutModel",
          "state": {
            "_view_name": "LayoutView",
            "grid_template_rows": null,
            "right": null,
            "justify_content": null,
            "_view_module": "@jupyter-widgets/base",
            "overflow": null,
            "_model_module_version": "1.2.0",
            "_view_count": null,
            "flex_flow": null,
            "width": null,
            "min_width": null,
            "border": null,
            "align_items": null,
            "bottom": null,
            "_model_module": "@jupyter-widgets/base",
            "top": null,
            "grid_column": null,
            "overflow_y": null,
            "overflow_x": null,
            "grid_auto_flow": null,
            "grid_area": null,
            "grid_template_columns": null,
            "flex": null,
            "_model_name": "LayoutModel",
            "justify_items": null,
            "grid_row": null,
            "max_height": null,
            "align_content": null,
            "visibility": null,
            "align_self": null,
            "height": null,
            "min_height": null,
            "padding": null,
            "grid_auto_rows": null,
            "grid_gap": null,
            "max_width": null,
            "order": null,
            "_view_module_version": "1.2.0",
            "grid_template_areas": null,
            "object_position": null,
            "object_fit": null,
            "grid_auto_columns": null,
            "margin": null,
            "display": null,
            "left": null
          }
        },
        "50874362718940c3b1cc554094f09ec6": {
          "model_module": "@jupyter-widgets/controls",
          "model_name": "FloatProgressModel",
          "state": {
            "_view_name": "ProgressView",
            "style": "IPY_MODEL_4aac7bf1867c43318ab4161965ad4b73",
            "_dom_classes": [],
            "description": "",
            "_model_name": "FloatProgressModel",
            "bar_style": "info",
            "max": 1,
            "_view_module": "@jupyter-widgets/controls",
            "_model_module_version": "1.5.0",
            "value": 1,
            "_view_count": null,
            "_view_module_version": "1.5.0",
            "orientation": "horizontal",
            "min": 0,
            "description_tooltip": null,
            "_model_module": "@jupyter-widgets/controls",
            "layout": "IPY_MODEL_5958244e74414917a11956d4eece97f5"
          }
        },
        "9b91f62853d34a20b43d03170d655186": {
          "model_module": "@jupyter-widgets/controls",
          "model_name": "HTMLModel",
          "state": {
            "_view_name": "HTMLView",
            "style": "IPY_MODEL_c04bad0d54664c5c9277855326d1dd41",
            "_dom_classes": [],
            "description": "",
            "_model_name": "HTMLModel",
            "placeholder": "​",
            "_view_module": "@jupyter-widgets/controls",
            "_model_module_version": "1.5.0",
            "value": " 166M/0.00 [00:19&lt;00:00, 163MiB/s]",
            "_view_count": null,
            "_view_module_version": "1.5.0",
            "description_tooltip": null,
            "_model_module": "@jupyter-widgets/controls",
            "layout": "IPY_MODEL_9de3313d475a4857a8f4d7ec09aeb155"
          }
        },
        "4aac7bf1867c43318ab4161965ad4b73": {
          "model_module": "@jupyter-widgets/controls",
          "model_name": "ProgressStyleModel",
          "state": {
            "_view_name": "StyleView",
            "_model_name": "ProgressStyleModel",
            "description_width": "initial",
            "_view_module": "@jupyter-widgets/base",
            "_model_module_version": "1.5.0",
            "_view_count": null,
            "_view_module_version": "1.2.0",
            "bar_color": null,
            "_model_module": "@jupyter-widgets/controls"
          }
        },
        "5958244e74414917a11956d4eece97f5": {
          "model_module": "@jupyter-widgets/base",
          "model_name": "LayoutModel",
          "state": {
            "_view_name": "LayoutView",
            "grid_template_rows": null,
            "right": null,
            "justify_content": null,
            "_view_module": "@jupyter-widgets/base",
            "overflow": null,
            "_model_module_version": "1.2.0",
            "_view_count": null,
            "flex_flow": null,
            "width": null,
            "min_width": null,
            "border": null,
            "align_items": null,
            "bottom": null,
            "_model_module": "@jupyter-widgets/base",
            "top": null,
            "grid_column": null,
            "overflow_y": null,
            "overflow_x": null,
            "grid_auto_flow": null,
            "grid_area": null,
            "grid_template_columns": null,
            "flex": null,
            "_model_name": "LayoutModel",
            "justify_items": null,
            "grid_row": null,
            "max_height": null,
            "align_content": null,
            "visibility": null,
            "align_self": null,
            "height": null,
            "min_height": null,
            "padding": null,
            "grid_auto_rows": null,
            "grid_gap": null,
            "max_width": null,
            "order": null,
            "_view_module_version": "1.2.0",
            "grid_template_areas": null,
            "object_position": null,
            "object_fit": null,
            "grid_auto_columns": null,
            "margin": null,
            "display": null,
            "left": null
          }
        },
        "c04bad0d54664c5c9277855326d1dd41": {
          "model_module": "@jupyter-widgets/controls",
          "model_name": "DescriptionStyleModel",
          "state": {
            "_view_name": "StyleView",
            "_model_name": "DescriptionStyleModel",
            "description_width": "",
            "_view_module": "@jupyter-widgets/base",
            "_model_module_version": "1.5.0",
            "_view_count": null,
            "_view_module_version": "1.2.0",
            "_model_module": "@jupyter-widgets/controls"
          }
        },
        "9de3313d475a4857a8f4d7ec09aeb155": {
          "model_module": "@jupyter-widgets/base",
          "model_name": "LayoutModel",
          "state": {
            "_view_name": "LayoutView",
            "grid_template_rows": null,
            "right": null,
            "justify_content": null,
            "_view_module": "@jupyter-widgets/base",
            "overflow": null,
            "_model_module_version": "1.2.0",
            "_view_count": null,
            "flex_flow": null,
            "width": null,
            "min_width": null,
            "border": null,
            "align_items": null,
            "bottom": null,
            "_model_module": "@jupyter-widgets/base",
            "top": null,
            "grid_column": null,
            "overflow_y": null,
            "overflow_x": null,
            "grid_auto_flow": null,
            "grid_area": null,
            "grid_template_columns": null,
            "flex": null,
            "_model_name": "LayoutModel",
            "justify_items": null,
            "grid_row": null,
            "max_height": null,
            "align_content": null,
            "visibility": null,
            "align_self": null,
            "height": null,
            "min_height": null,
            "padding": null,
            "grid_auto_rows": null,
            "grid_gap": null,
            "max_width": null,
            "order": null,
            "_view_module_version": "1.2.0",
            "grid_template_areas": null,
            "object_position": null,
            "object_fit": null,
            "grid_auto_columns": null,
            "margin": null,
            "display": null,
            "left": null
          }
        }
      }
    }
  },
  "cells": [
    {
      "cell_type": "markdown",
      "metadata": {
        "id": "aHF1c-D_h0oF"
      },
      "source": [
        "# Libraries and Functions"
      ]
    },
    {
      "cell_type": "markdown",
      "metadata": {
        "id": "KfSFfO3cN394"
      },
      "source": [
        "##Libraries"
      ]
    },
    {
      "cell_type": "code",
      "metadata": {
        "id": "-qQM_46Ah0oW"
      },
      "source": [
        "import json\n",
        "from torchvision.ops import nms\n",
        "from torchvision.models.detection.faster_rcnn import FastRCNNPredictor\n",
        "import torchvision\n",
        "import torch\n",
        "import requests\n",
        "import os\n",
        "from tqdm.notebook import tqdm\n",
        "import cv2\n",
        "import numpy as np\n",
        "import matplotlib.pyplot as plt\n",
        "%matplotlib inline\n",
        "\n",
        "# Seed Everything for Reproducibility\n",
        "SEED = 42\n",
        "\n",
        "\n",
        "def seed_everything(seed):\n",
        "    os.environ['PYTHONHASHSEED'] = str(seed)\n",
        "    np.random.seed(seed)\n",
        "    torch.manual_seed(seed)\n",
        "    torch.cuda.manual_seed(seed)\n",
        "    torch.backends.cudnn.deterministic = True\n",
        "\n",
        "\n",
        "seed_everything(SEED)"
      ],
      "execution_count": null,
      "outputs": []
    },
    {
      "cell_type": "markdown",
      "metadata": {
        "id": "UGCVV0gUNI0D"
      },
      "source": [
        "##Functions"
      ]
    },
    {
      "cell_type": "markdown",
      "metadata": {
        "id": "Mso5AuhwNQGq"
      },
      "source": [
        "###Functions for Downloading"
      ]
    },
    {
      "cell_type": "code",
      "metadata": {
        "id": "dJehmFmeh0od"
      },
      "source": [
        "def Download(name, url):  # found this somewhere on stackoverflow\n",
        "    \"\"\"\n",
        "    Function for downloading datasets (except downloading from Google Drive)\n",
        "    \"\"\"\n",
        "    response = requests.get(url, stream=True)\n",
        "    total_size_in_bytes = int(response.headers.get('content-length', 0))\n",
        "    block_size = 1024  # 1 Kibibyte\n",
        "    progress_bar = tqdm(total=total_size_in_bytes, unit='iB', unit_scale=True)\n",
        "    with open('/content/zipdata/'+name, 'wb') as file:\n",
        "        for data in response.iter_content(block_size):\n",
        "            progress_bar.update(len(data))\n",
        "            file.write(data)\n",
        "    progress_bar.close()\n",
        "    if total_size_in_bytes != 0 and progress_bar.n != total_size_in_bytes:\n",
        "        print(\"ERROR, something went wrong\")\n",
        "\n",
        "\n",
        "def download_file_from_google_drive(id, destination):\n",
        "    '''Function that downloads files from google drive'''\n",
        "    URL = \"https://docs.google.com/uc?export=download\"\n",
        "    session = requests.Session()\n",
        "    response = session.get(URL, params={'id': id}, stream=True)\n",
        "    token = get_confirm_token(response)\n",
        "    if token:\n",
        "        params = {'id': id, 'confirm': token}\n",
        "        response = session.get(URL, params=params, stream=True)\n",
        "    total_size_in_bytes = int(response.headers.get('content-length', 0))\n",
        "    progress_bar = tqdm(total=total_size_in_bytes, unit='iB', unit_scale=True)\n",
        "    save_response_content(response, destination, progress_bar)\n",
        "\n",
        "\n",
        "def get_confirm_token(response):\n",
        "    for key, value in response.cookies.items():\n",
        "        if key.startswith('download_warning'):\n",
        "            return value\n",
        "    return None\n",
        "\n",
        "\n",
        "def save_response_content(response, destination, progress_bar):\n",
        "    CHUNK_SIZE = 32768\n",
        "    with open(destination, \"wb\") as f:\n",
        "        for chunk in response.iter_content(CHUNK_SIZE):\n",
        "            if chunk:  # filter out keep-alive new chunks\n",
        "                f.write(chunk)\n",
        "                progress_bar.update(len(chunk))\n",
        "\n"
      ],
      "execution_count": null,
      "outputs": []
    },
    {
      "cell_type": "markdown",
      "metadata": {
        "id": "fL2HRP0RNVPd"
      },
      "source": [
        "###Functions for Image Processing"
      ]
    },
    {
      "cell_type": "code",
      "metadata": {
        "id": "C5vid-8Yh0o3"
      },
      "source": [
        "def filterBoxes(output, nms_th=0.3, score_threshold=0.5):\n",
        "    ''' Function returns boxes, scores and labels\n",
        "    for set classes'''\n",
        "    boxes = output['boxes']\n",
        "    scores = output['scores']\n",
        "    labels = output['labels']\n",
        "    # Non Max Supression\n",
        "    mask = nms(boxes, scores, nms_th)\n",
        "    boxes = boxes[mask]\n",
        "    scores = scores[mask]\n",
        "    labels = labels[mask]\n",
        "    boxes = boxes.data.cpu().numpy().astype(np.int32)\n",
        "    scores = scores.data.cpu().numpy()\n",
        "    labels = labels.data.cpu().numpy()\n",
        "    mask = scores >= score_threshold\n",
        "    boxes = boxes[mask]\n",
        "    scores = scores[mask]\n",
        "    labels = labels[mask]\n",
        "    return boxes, scores, labels\n",
        "\n",
        "\n",
        "def displayPredictions(image, output, nms_th=0.3, score_threshold=0.5, unpacked=False):\n",
        "    ''' Displays predictions drawing bboxes, using the filterBoxes function'''\n",
        "\n",
        "    if not unpacked:\n",
        "        boxes, scores, labels = filterBoxes(output, nms_th, score_threshold)\n",
        "    else:\n",
        "        boxes, scores, labels = output['boxes'], output['scores'], output['labels']\n",
        "    colors = {1: (0, 255, 0), 2: (255, 255, 0), 3: (255, 0, 0)}\n",
        "    for box, label in zip(boxes, labels):\n",
        "        image = cv2.rectangle(image,\n",
        "                              (box[0], box[1]),\n",
        "                              (box[2], box[3]),\n",
        "                              colors[label], 2)\n",
        "    return image, {'boxes': boxes, 'scores': scores, 'labels': labels}\n",
        "\n",
        "\n",
        "def preprocessImage(frame):\n",
        "    '''Preprocess frames of the video '''\n",
        "\n",
        "    frame = cv2.resize(frame, (512, 512))\n",
        "    frame_ = torch.as_tensor([frame]).to(device).permute(0, 3, 1, 2)/255.0\n",
        "    return frame_, frame\n",
        "\n",
        "\n",
        "def detectTrafficLight(frame, model, nms_th=0.2, score_th=0.5):\n",
        "    '''Detecting the object in the frame of a video'''\n",
        "\n",
        "    model.eval()\n",
        "    frame_, frame = preprocessImage(frame)\n",
        "    output = model(frame_)[0]\n",
        "    pred, boxes_info = displayPredictions(frame, output, nms_th, score_th)\n",
        "    return pred, boxes_info\n",
        "\n",
        "\n",
        "def write_json(boxes_list, jfile):\n",
        "    '''Function that writes the necessary json file with predictions'''\n",
        "\n",
        "    label_names = {1: 'green', 2: 'yellow', 3: 'red'}\n",
        "    result = {}\n",
        "    for k in range(len(boxes_list)):\n",
        "        coords, labels = boxes_list[k]['boxes'], boxes_list[k]['labels']\n",
        "        inner_result = {}\n",
        "        for i in range(len(labels)):\n",
        "            inner_result[i] = {'coords': [int(j) for j in coords[i]], 'state': label_names[labels[i]],\n",
        "                               'affect': 'True' if (coords[i][[0, 2]].mean() > 180) and (coords[i][[1, 3]].mean() < 256) else 'False'}\n",
        "        result[k] = inner_result\n",
        "    jfile.write(json.dumps(result, indent=5))\n",
        "    return json.dumps(result, indent=5)\n"
      ],
      "execution_count": null,
      "outputs": []
    },
    {
      "cell_type": "markdown",
      "metadata": {
        "id": "hMoQ5Fo6Nkax"
      },
      "source": [
        "#Main algo"
      ]
    },
    {
      "cell_type": "markdown",
      "metadata": {
        "id": "er6l8Wu-OB_I"
      },
      "source": [
        "##Downloading"
      ]
    },
    {
      "cell_type": "code",
      "metadata": {
        "colab": {
          "base_uri": "https://localhost:8080/"
        },
        "id": "4LA1JzQPh0oh",
        "outputId": "eddcd977-e7a6-446d-9959-a299cfaf6ecf"
      },
      "source": [
        "#Creating dirs to store datasets\n",
        "try:\n",
        "  os.makedirs('/content/video')\n",
        "  print('Directory \"/content/video\" is created')\n",
        "except:\n",
        "  print('Directory \"/content/video\" already exists')"
      ],
      "execution_count": null,
      "outputs": [
        {
          "output_type": "stream",
          "text": [
            "Directory \"/content/video\" already exists\n"
          ],
          "name": "stdout"
        }
      ]
    },
    {
      "cell_type": "code",
      "metadata": {
        "colab": {
          "base_uri": "https://localhost:8080/",
          "referenced_widgets": [
            "07c5106af44041939261e29ecfb37340",
            "9eb15fd27d9b472bb078f3e5214253ba",
            "796beb41774843b0a7cb429da7ad942c",
            "08995e7f0a5e4ceeb3b5bc52e2925c42",
            "e4eb75966a2e470e83e6e530a9079de0",
            "761802ca7a514f3ca47523ccc8c7f001",
            "7a46d47be50c4e50876fbfd51090cd8a",
            "221896b22e8c44e2a721d515bb147cb6"
          ]
        },
        "id": "8dl8C8Cdh0o2",
        "outputId": "67a691fd-2280-425c-b11a-f13fa1eba56a"
      },
      "source": [
        "video_drive = '1yQJn-qoZNl53hr7BnrAss4CRARG23-uN'\n",
        "video_path = '/content/video/test_video_1'\n",
        "download_file_from_google_drive(video_drive, video_path)"
      ],
      "execution_count": null,
      "outputs": [
        {
          "output_type": "display_data",
          "data": {
            "application/vnd.jupyter.widget-view+json": {
              "model_id": "07c5106af44041939261e29ecfb37340",
              "version_minor": 0,
              "version_major": 2
            },
            "text/plain": [
              "HBox(children=(FloatProgress(value=1.0, bar_style='info', max=1.0), HTML(value='')))"
            ]
          },
          "metadata": {
            "tags": []
          }
        }
      ]
    },
    {
      "cell_type": "code",
      "metadata": {
        "colab": {
          "base_uri": "https://localhost:8080/",
          "referenced_widgets": [
            "f96c317d6b0c4d429b0831e264d479f7",
            "a20bdfc4ee104bb98ed5894c86043a7e",
            "50874362718940c3b1cc554094f09ec6",
            "9b91f62853d34a20b43d03170d655186",
            "4aac7bf1867c43318ab4161965ad4b73",
            "5958244e74414917a11956d4eece97f5",
            "c04bad0d54664c5c9277855326d1dd41",
            "9de3313d475a4857a8f4d7ec09aeb155"
          ]
        },
        "id": "-jQZpkxQV2Zn",
        "outputId": "785ebd9b-665e-4f32-921b-e2bdbaf57d83"
      },
      "source": [
        "download_file_from_google_drive('1zrfmFG5lz84of6Ul7e0USBSlIyzdm2ZX', '/content/fasterrcnn_resnet50_fpn.pth')"
      ],
      "execution_count": null,
      "outputs": [
        {
          "output_type": "display_data",
          "data": {
            "application/vnd.jupyter.widget-view+json": {
              "model_id": "f96c317d6b0c4d429b0831e264d479f7",
              "version_minor": 0,
              "version_major": 2
            },
            "text/plain": [
              "HBox(children=(FloatProgress(value=1.0, bar_style='info', max=1.0), HTML(value='')))"
            ]
          },
          "metadata": {
            "tags": []
          }
        }
      ]
    },
    {
      "cell_type": "markdown",
      "metadata": {
        "id": "4Q1cTX18OFJB"
      },
      "source": [
        "##Model configuration"
      ]
    },
    {
      "cell_type": "code",
      "metadata": {
        "colab": {
          "base_uri": "https://localhost:8080/"
        },
        "id": "ZyXGUq3Ph0o3",
        "outputId": "2f85f9d7-8b0e-45cd-ff90-59806b504fdc"
      },
      "source": [
        "device = torch.device('cuda') if torch.cuda.is_available() else torch.device('cpu')\n",
        "print('Device:', device)\n",
        "model = torchvision.models.detection.fasterrcnn_resnet50_fpn(pretrained=True)\n",
        "N_CLASS = 4 \n",
        "INP_FEATURES = model.roi_heads.box_predictor.cls_score.in_features\n",
        "model.roi_heads.box_predictor = FastRCNNPredictor(INP_FEATURES, N_CLASS)\n",
        "model.to(device)\n",
        "model.load_state_dict(torch.load(os.path.join('/content/fasterrcnn_resnet50_fpn.pth'), map_location=device))"
      ],
      "execution_count": null,
      "outputs": [
        {
          "output_type": "stream",
          "text": [
            "Device: cuda\n"
          ],
          "name": "stdout"
        },
        {
          "output_type": "execute_result",
          "data": {
            "text/plain": [
              "<All keys matched successfully>"
            ]
          },
          "metadata": {
            "tags": []
          },
          "execution_count": 17
        }
      ]
    },
    {
      "cell_type": "markdown",
      "metadata": {
        "id": "TetU8gt5OQAh"
      },
      "source": [
        "##Video processing"
      ]
    },
    {
      "cell_type": "code",
      "metadata": {
        "id": "mXuP0-1oh0o4"
      },
      "source": [
        "%%capture\n",
        "\n",
        "# Initialization\n",
        "counter, boxes_list = 0, []\n",
        "\n",
        "# Model parameters\n",
        "nms_th, score_threshold = 0.2, 0.2\n",
        "\n",
        "# Opening files\n",
        "cap_video = cv2.VideoCapture(video_path)\n",
        "VIDEO_FPS = 30\n",
        "result_video = cv2.VideoWriter('/content/video/result-1.mp4',\n",
        "                               cv2.VideoWriter_fourcc(*\"FMP4\"), VIDEO_FPS, (512, 512), True)\n",
        "json_file = open('traffic_lights.json', 'w')\n",
        "\n",
        "# Opening the file for json\n",
        "# MAIN LOOP\n",
        "\n",
        "while cap_video.isOpened():\n",
        "    ret, frame = cap_video.read()\n",
        "    if not ret:\n",
        "        break\n",
        "    # skipping processing step for some frames\n",
        "    if counter % 4 == 0:\n",
        "        frame = cv2.cvtColor(frame, cv2.COLOR_BGR2RGB)\n",
        "        # detecting boxes for the frame (using NN)\n",
        "        pred, boxes = detectTrafficLight(frame, model, nms_th, score_threshold)\n",
        "        pred = cv2.cvtColor(pred, cv2.COLOR_BGR2RGB)\n",
        "        result_video.write(pred)\n",
        "    else:\n",
        "        frame = cv2.cvtColor(frame, cv2.COLOR_BGR2RGB)\n",
        "        # not detecting boxes, using boxes which were calculated on previous steps\n",
        "        frame = cv2.resize(frame, (512, 512))\n",
        "        pred, boxes = displayPredictions(\n",
        "            frame, boxes, nms_th, score_threshold, unpacked=True)\n",
        "        pred = cv2.cvtColor(pred, cv2.COLOR_BGR2RGB)\n",
        "        result_video.write(pred)\n",
        "    boxes_list.append(boxes)\n",
        "    counter = counter + 1\n",
        "\n",
        "# Creating a json file\n",
        "write_json(boxes_list, json_file)\n",
        "result_video.release()\n",
        "cap_video.release()\n",
        "json_file.close()\n"
      ],
      "execution_count": null,
      "outputs": []
    }
  ]
}